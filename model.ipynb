{
 "cells": [
  {
   "cell_type": "code",
   "execution_count": 1,
   "metadata": {},
   "outputs": [],
   "source": [
    "import pandas as pd\n",
    "import matplotlib.pyplot as plt\n",
    "import seaborn as sns\n",
    "import numpy as np"
   ]
  },
  {
   "cell_type": "code",
   "execution_count": 95,
   "metadata": {},
   "outputs": [],
   "source": [
    "# Read train data\n",
    "train_data = pd.read_csv('./data/train.csv')\n",
    "test_data = pd.read_csv('./data/test.csv')"
   ]
  },
  {
   "cell_type": "code",
   "execution_count": 96,
   "metadata": {},
   "outputs": [
    {
     "data": {
      "text/html": [
       "<div>\n",
       "<style scoped>\n",
       "    .dataframe tbody tr th:only-of-type {\n",
       "        vertical-align: middle;\n",
       "    }\n",
       "\n",
       "    .dataframe tbody tr th {\n",
       "        vertical-align: top;\n",
       "    }\n",
       "\n",
       "    .dataframe thead th {\n",
       "        text-align: right;\n",
       "    }\n",
       "</style>\n",
       "<table border=\"1\" class=\"dataframe\">\n",
       "  <thead>\n",
       "    <tr style=\"text-align: right;\">\n",
       "      <th></th>\n",
       "      <th>PassengerId</th>\n",
       "      <th>Survived</th>\n",
       "      <th>Pclass</th>\n",
       "      <th>Name</th>\n",
       "      <th>Sex</th>\n",
       "      <th>Age</th>\n",
       "      <th>SibSp</th>\n",
       "      <th>Parch</th>\n",
       "      <th>Ticket</th>\n",
       "      <th>Fare</th>\n",
       "      <th>Cabin</th>\n",
       "      <th>Embarked</th>\n",
       "    </tr>\n",
       "  </thead>\n",
       "  <tbody>\n",
       "    <tr>\n",
       "      <th>0</th>\n",
       "      <td>1</td>\n",
       "      <td>0</td>\n",
       "      <td>3</td>\n",
       "      <td>Braund, Mr. Owen Harris</td>\n",
       "      <td>male</td>\n",
       "      <td>22.0</td>\n",
       "      <td>1</td>\n",
       "      <td>0</td>\n",
       "      <td>A/5 21171</td>\n",
       "      <td>7.2500</td>\n",
       "      <td>NaN</td>\n",
       "      <td>S</td>\n",
       "    </tr>\n",
       "    <tr>\n",
       "      <th>1</th>\n",
       "      <td>2</td>\n",
       "      <td>1</td>\n",
       "      <td>1</td>\n",
       "      <td>Cumings, Mrs. John Bradley (Florence Briggs Th...</td>\n",
       "      <td>female</td>\n",
       "      <td>38.0</td>\n",
       "      <td>1</td>\n",
       "      <td>0</td>\n",
       "      <td>PC 17599</td>\n",
       "      <td>71.2833</td>\n",
       "      <td>C85</td>\n",
       "      <td>C</td>\n",
       "    </tr>\n",
       "    <tr>\n",
       "      <th>2</th>\n",
       "      <td>3</td>\n",
       "      <td>1</td>\n",
       "      <td>3</td>\n",
       "      <td>Heikkinen, Miss. Laina</td>\n",
       "      <td>female</td>\n",
       "      <td>26.0</td>\n",
       "      <td>0</td>\n",
       "      <td>0</td>\n",
       "      <td>STON/O2. 3101282</td>\n",
       "      <td>7.9250</td>\n",
       "      <td>NaN</td>\n",
       "      <td>S</td>\n",
       "    </tr>\n",
       "    <tr>\n",
       "      <th>3</th>\n",
       "      <td>4</td>\n",
       "      <td>1</td>\n",
       "      <td>1</td>\n",
       "      <td>Futrelle, Mrs. Jacques Heath (Lily May Peel)</td>\n",
       "      <td>female</td>\n",
       "      <td>35.0</td>\n",
       "      <td>1</td>\n",
       "      <td>0</td>\n",
       "      <td>113803</td>\n",
       "      <td>53.1000</td>\n",
       "      <td>C123</td>\n",
       "      <td>S</td>\n",
       "    </tr>\n",
       "    <tr>\n",
       "      <th>4</th>\n",
       "      <td>5</td>\n",
       "      <td>0</td>\n",
       "      <td>3</td>\n",
       "      <td>Allen, Mr. William Henry</td>\n",
       "      <td>male</td>\n",
       "      <td>35.0</td>\n",
       "      <td>0</td>\n",
       "      <td>0</td>\n",
       "      <td>373450</td>\n",
       "      <td>8.0500</td>\n",
       "      <td>NaN</td>\n",
       "      <td>S</td>\n",
       "    </tr>\n",
       "  </tbody>\n",
       "</table>\n",
       "</div>"
      ],
      "text/plain": [
       "   PassengerId  Survived  Pclass  \\\n",
       "0            1         0       3   \n",
       "1            2         1       1   \n",
       "2            3         1       3   \n",
       "3            4         1       1   \n",
       "4            5         0       3   \n",
       "\n",
       "                                                Name     Sex   Age  SibSp  \\\n",
       "0                            Braund, Mr. Owen Harris    male  22.0      1   \n",
       "1  Cumings, Mrs. John Bradley (Florence Briggs Th...  female  38.0      1   \n",
       "2                             Heikkinen, Miss. Laina  female  26.0      0   \n",
       "3       Futrelle, Mrs. Jacques Heath (Lily May Peel)  female  35.0      1   \n",
       "4                           Allen, Mr. William Henry    male  35.0      0   \n",
       "\n",
       "   Parch            Ticket     Fare Cabin Embarked  \n",
       "0      0         A/5 21171   7.2500   NaN        S  \n",
       "1      0          PC 17599  71.2833   C85        C  \n",
       "2      0  STON/O2. 3101282   7.9250   NaN        S  \n",
       "3      0            113803  53.1000  C123        S  \n",
       "4      0            373450   8.0500   NaN        S  "
      ]
     },
     "execution_count": 96,
     "metadata": {},
     "output_type": "execute_result"
    }
   ],
   "source": [
    "# Explatory data analysis\n",
    "train_data.head()"
   ]
  },
  {
   "cell_type": "code",
   "execution_count": 97,
   "metadata": {},
   "outputs": [
    {
     "data": {
      "text/plain": [
       "(891, 12)"
      ]
     },
     "execution_count": 97,
     "metadata": {},
     "output_type": "execute_result"
    }
   ],
   "source": [
    "train_data.shape"
   ]
  },
  {
   "cell_type": "code",
   "execution_count": 98,
   "metadata": {},
   "outputs": [
    {
     "data": {
      "text/plain": [
       "2"
      ]
     },
     "execution_count": 98,
     "metadata": {},
     "output_type": "execute_result"
    }
   ],
   "source": [
    "train_data.ndim"
   ]
  },
  {
   "cell_type": "code",
   "execution_count": 99,
   "metadata": {},
   "outputs": [
    {
     "data": {
      "text/plain": [
       "Index(['PassengerId', 'Survived', 'Pclass', 'Name', 'Sex', 'Age', 'SibSp',\n",
       "       'Parch', 'Ticket', 'Fare', 'Cabin', 'Embarked'],\n",
       "      dtype='object')"
      ]
     },
     "execution_count": 99,
     "metadata": {},
     "output_type": "execute_result"
    }
   ],
   "source": [
    "train_data.columns"
   ]
  },
  {
   "cell_type": "code",
   "execution_count": 100,
   "metadata": {},
   "outputs": [
    {
     "name": "stdout",
     "output_type": "stream",
     "text": [
      "<class 'pandas.core.frame.DataFrame'>\n",
      "RangeIndex: 891 entries, 0 to 890\n",
      "Data columns (total 12 columns):\n",
      "PassengerId    891 non-null int64\n",
      "Survived       891 non-null int64\n",
      "Pclass         891 non-null int64\n",
      "Name           891 non-null object\n",
      "Sex            891 non-null object\n",
      "Age            714 non-null float64\n",
      "SibSp          891 non-null int64\n",
      "Parch          891 non-null int64\n",
      "Ticket         891 non-null object\n",
      "Fare           891 non-null float64\n",
      "Cabin          204 non-null object\n",
      "Embarked       889 non-null object\n",
      "dtypes: float64(2), int64(5), object(5)\n",
      "memory usage: 83.6+ KB\n"
     ]
    }
   ],
   "source": [
    "train_data.info()"
   ]
  },
  {
   "cell_type": "code",
   "execution_count": 101,
   "metadata": {},
   "outputs": [
    {
     "data": {
      "text/html": [
       "<div>\n",
       "<style scoped>\n",
       "    .dataframe tbody tr th:only-of-type {\n",
       "        vertical-align: middle;\n",
       "    }\n",
       "\n",
       "    .dataframe tbody tr th {\n",
       "        vertical-align: top;\n",
       "    }\n",
       "\n",
       "    .dataframe thead th {\n",
       "        text-align: right;\n",
       "    }\n",
       "</style>\n",
       "<table border=\"1\" class=\"dataframe\">\n",
       "  <thead>\n",
       "    <tr style=\"text-align: right;\">\n",
       "      <th></th>\n",
       "      <th>PassengerId</th>\n",
       "      <th>Survived</th>\n",
       "      <th>Pclass</th>\n",
       "      <th>Age</th>\n",
       "      <th>SibSp</th>\n",
       "      <th>Parch</th>\n",
       "      <th>Fare</th>\n",
       "    </tr>\n",
       "  </thead>\n",
       "  <tbody>\n",
       "    <tr>\n",
       "      <th>count</th>\n",
       "      <td>891.000000</td>\n",
       "      <td>891.000000</td>\n",
       "      <td>891.000000</td>\n",
       "      <td>714.000000</td>\n",
       "      <td>891.000000</td>\n",
       "      <td>891.000000</td>\n",
       "      <td>891.000000</td>\n",
       "    </tr>\n",
       "    <tr>\n",
       "      <th>mean</th>\n",
       "      <td>446.000000</td>\n",
       "      <td>0.383838</td>\n",
       "      <td>2.308642</td>\n",
       "      <td>29.699118</td>\n",
       "      <td>0.523008</td>\n",
       "      <td>0.381594</td>\n",
       "      <td>32.204208</td>\n",
       "    </tr>\n",
       "    <tr>\n",
       "      <th>std</th>\n",
       "      <td>257.353842</td>\n",
       "      <td>0.486592</td>\n",
       "      <td>0.836071</td>\n",
       "      <td>14.526497</td>\n",
       "      <td>1.102743</td>\n",
       "      <td>0.806057</td>\n",
       "      <td>49.693429</td>\n",
       "    </tr>\n",
       "    <tr>\n",
       "      <th>min</th>\n",
       "      <td>1.000000</td>\n",
       "      <td>0.000000</td>\n",
       "      <td>1.000000</td>\n",
       "      <td>0.420000</td>\n",
       "      <td>0.000000</td>\n",
       "      <td>0.000000</td>\n",
       "      <td>0.000000</td>\n",
       "    </tr>\n",
       "    <tr>\n",
       "      <th>25%</th>\n",
       "      <td>223.500000</td>\n",
       "      <td>0.000000</td>\n",
       "      <td>2.000000</td>\n",
       "      <td>20.125000</td>\n",
       "      <td>0.000000</td>\n",
       "      <td>0.000000</td>\n",
       "      <td>7.910400</td>\n",
       "    </tr>\n",
       "    <tr>\n",
       "      <th>50%</th>\n",
       "      <td>446.000000</td>\n",
       "      <td>0.000000</td>\n",
       "      <td>3.000000</td>\n",
       "      <td>28.000000</td>\n",
       "      <td>0.000000</td>\n",
       "      <td>0.000000</td>\n",
       "      <td>14.454200</td>\n",
       "    </tr>\n",
       "    <tr>\n",
       "      <th>75%</th>\n",
       "      <td>668.500000</td>\n",
       "      <td>1.000000</td>\n",
       "      <td>3.000000</td>\n",
       "      <td>38.000000</td>\n",
       "      <td>1.000000</td>\n",
       "      <td>0.000000</td>\n",
       "      <td>31.000000</td>\n",
       "    </tr>\n",
       "    <tr>\n",
       "      <th>max</th>\n",
       "      <td>891.000000</td>\n",
       "      <td>1.000000</td>\n",
       "      <td>3.000000</td>\n",
       "      <td>80.000000</td>\n",
       "      <td>8.000000</td>\n",
       "      <td>6.000000</td>\n",
       "      <td>512.329200</td>\n",
       "    </tr>\n",
       "  </tbody>\n",
       "</table>\n",
       "</div>"
      ],
      "text/plain": [
       "       PassengerId    Survived      Pclass         Age       SibSp  \\\n",
       "count   891.000000  891.000000  891.000000  714.000000  891.000000   \n",
       "mean    446.000000    0.383838    2.308642   29.699118    0.523008   \n",
       "std     257.353842    0.486592    0.836071   14.526497    1.102743   \n",
       "min       1.000000    0.000000    1.000000    0.420000    0.000000   \n",
       "25%     223.500000    0.000000    2.000000   20.125000    0.000000   \n",
       "50%     446.000000    0.000000    3.000000   28.000000    0.000000   \n",
       "75%     668.500000    1.000000    3.000000   38.000000    1.000000   \n",
       "max     891.000000    1.000000    3.000000   80.000000    8.000000   \n",
       "\n",
       "            Parch        Fare  \n",
       "count  891.000000  891.000000  \n",
       "mean     0.381594   32.204208  \n",
       "std      0.806057   49.693429  \n",
       "min      0.000000    0.000000  \n",
       "25%      0.000000    7.910400  \n",
       "50%      0.000000   14.454200  \n",
       "75%      0.000000   31.000000  \n",
       "max      6.000000  512.329200  "
      ]
     },
     "execution_count": 101,
     "metadata": {},
     "output_type": "execute_result"
    }
   ],
   "source": [
    "train_data.describe()"
   ]
  },
  {
   "cell_type": "code",
   "execution_count": 102,
   "metadata": {},
   "outputs": [
    {
     "data": {
      "text/plain": [
       "<matplotlib.axes._subplots.AxesSubplot at 0x1a1f757e48>"
      ]
     },
     "execution_count": 102,
     "metadata": {},
     "output_type": "execute_result"
    },
    {
     "data": {
      "image/png": "[encoded data removed]",
      "text/plain": [
       "<Figure size 432x288 with 1 Axes>"
      ]
     },
     "metadata": {
      "needs_background": "light"
     },
     "output_type": "display_data"
    }
   ],
   "source": [
    "# Data visualization\n",
    "\n",
    "# By plotting a count plot of passenger class with respect to Survived, we can see that class is highly correlated with the survival \n",
    "# (most of first class passengers survived)\n",
    "sns.countplot(x='Pclass', hue='Survived', data=train_data)"
   ]
  },
  {
   "cell_type": "code",
   "execution_count": 103,
   "metadata": {},
   "outputs": [
    {
     "data": {
      "text/plain": [
       "<matplotlib.axes._subplots.AxesSubplot at 0x1a1f554780>"
      ]
     },
     "execution_count": 103,
     "metadata": {},
     "output_type": "execute_result"
    },
    {
     "data": {
      "image/png": "[encoded data removed]",
      "text/plain": [
       "<Figure size 432x288 with 1 Axes>"
      ]
     },
     "metadata": {
      "needs_background": "light"
     },
     "output_type": "display_data"
    }
   ],
   "source": [
    "# Sex vs Survived shows larger portion of females survived compared to males\n",
    "sns.countplot(x='Sex', hue='Survived', data=train_data)"
   ]
  },
  {
   "cell_type": "code",
   "execution_count": 104,
   "metadata": {},
   "outputs": [
    {
     "name": "stderr",
     "output_type": "stream",
     "text": [
      "/anaconda3/lib/python3.7/site-packages/scipy/stats/stats.py:1713: FutureWarning: Using a non-tuple sequence for multidimensional indexing is deprecated; use `arr[tuple(seq)]` instead of `arr[seq]`. In the future this will be interpreted as an array index, `arr[np.array(seq)]`, which will result either in an error or a different result.\n",
      "  return np.add.reduce(sorted[indexer] * weights, axis=axis) / sumval\n"
     ]
    },
    {
     "data": {
      "text/plain": [
       "<matplotlib.axes._subplots.AxesSubplot at 0x1a1f94b9b0>"
      ]
     },
     "execution_count": 104,
     "metadata": {},
     "output_type": "execute_result"
    },
    {
     "data": {
      "image/png": "[encoded data removed]",
      "text/plain": [
       "<Figure size 432x288 with 1 Axes>"
      ]
     },
     "metadata": {
      "needs_background": "light"
     },
     "output_type": "display_data"
    }
   ],
   "source": [
    "sns.barplot(x='Age', y='Sex', hue='Survived', data=train_data)"
   ]
  },
  {
   "cell_type": "code",
   "execution_count": 105,
   "metadata": {},
   "outputs": [
    {
     "data": {
      "text/plain": [
       "<matplotlib.axes._subplots.AxesSubplot at 0x1a1f7e16d8>"
      ]
     },
     "execution_count": 105,
     "metadata": {},
     "output_type": "execute_result"
    },
    {
     "data": {
      "image/png": "[encoded data removed]",
      "text/plain": [
       "<Figure size 432x288 with 1 Axes>"
      ]
     },
     "metadata": {
      "needs_background": "light"
     },
     "output_type": "display_data"
    }
   ],
   "source": [
    "sns.countplot(x='Embarked', hue='Survived', data=train_data)"
   ]
  },
  {
   "cell_type": "code",
   "execution_count": 106,
   "metadata": {},
   "outputs": [
    {
     "data": {
      "text/plain": [
       "<matplotlib.axes._subplots.AxesSubplot at 0x10b4bf358>"
      ]
     },
     "execution_count": 106,
     "metadata": {},
     "output_type": "execute_result"
    },
    {
     "data": {
      "image/png": "[encoded data removed]",
      "text/plain": [
       "<Figure size 432x288 with 1 Axes>"
      ]
     },
     "metadata": {
      "needs_background": "light"
     },
     "output_type": "display_data"
    }
   ],
   "source": [
    "sns.countplot(x='SibSp', hue='Survived', data=train_data)"
   ]
  },
  {
   "cell_type": "code",
   "execution_count": 107,
   "metadata": {},
   "outputs": [
    {
     "data": {
      "text/plain": [
       "<matplotlib.axes._subplots.AxesSubplot at 0x1a1e3ef390>"
      ]
     },
     "execution_count": 107,
     "metadata": {},
     "output_type": "execute_result"
    },
    {
     "data": {
      "image/png": "[encoded data removed]",
      "text/plain": [
       "<Figure size 432x288 with 1 Axes>"
      ]
     },
     "metadata": {
      "needs_background": "light"
     },
     "output_type": "display_data"
    }
   ],
   "source": [
    "sns.countplot(x='Parch', hue='Survived', data=train_data)"
   ]
  },
  {
   "cell_type": "code",
   "execution_count": 77,
   "metadata": {},
   "outputs": [
    {
     "name": "stdout",
     "output_type": "stream",
     "text": [
      "NaN values before cleaning\n",
      "PassengerId: 0\n",
      "Survived: 0\n",
      "Pclass: 0\n",
      "Name: 0\n",
      "Sex: 0\n",
      "Age: 177\n",
      "SibSp: 0\n",
      "Parch: 0\n",
      "Ticket: 0\n",
      "Fare: 0\n",
      "Cabin: 687\n",
      "Embarked: 2\n"
     ]
    }
   ],
   "source": [
    "# Data cleaning\n",
    "\n",
    "def get_nan(data, feature):\n",
    "    return data[data[feature].isnull()]\n",
    "\n",
    "def print_nan(data):\n",
    "    for feature in data.columns:\n",
    "        print('{0}: {1}'.format(feature, len(get_nan(data, feature))))\n",
    "\n",
    "print('NaN values before cleaning')\n",
    "# As we can see from the results, we have some missing data for Age, Cabin and Embarked.\n",
    "print_nan(train_data)"
   ]
  },
  {
   "cell_type": "code",
   "execution_count": 72,
   "metadata": {},
   "outputs": [],
   "source": [
    "titlemap = {\n",
    "    'Ms': 'Ms',\n",
    "    'Rev': 'Officer',\n",
    "    'Mme': 'Mrs',\n",
    "    'Capt': 'Officer',\n",
    "    'Don': 'Royalty',\n",
    "    'Col': 'Officer',\n",
    "    'Mr': 'Mr',\n",
    "    'Sir': 'Royalty',\n",
    "    'Lady': 'Royalty',\n",
    "    'the Countess': 'Royalty',\n",
    "    'Jonkheer': 'Royalty',\n",
    "    'Master': 'Royalty',\n",
    "    'Mlle': 'Ms',\n",
    "    'Major': 'Officer',\n",
    "    'Mrs': 'Mrs',\n",
    "    'Dr': 'Officer',\n",
    "    'Miss': 'Ms',\n",
    "    'Dona': 'Royalty'\n",
    "}\n",
    "\n",
    "def get_title(name):\n",
    "    names = name.split(',')\n",
    "    if len(names) > 1: return names[1].split('.')[0].strip()\n",
    "    return name\n",
    "\n",
    "def get_titles():\n",
    "    titles = set()\n",
    "    for name in train_data.Name:\n",
    "        titles.add(get_title(name))\n",
    "    \n",
    "    return titles\n",
    "            \n",
    "def process_name(data):\n",
    "    data['Title'] = data['Name'].map(lambda name: titlemap[get_title(name)])\n",
    "    title_dummies = pd.get_dummies(data['Title'], prefix='Title')\n",
    "    data = pd.concat([data, title_dummies], axis=1)\n",
    "    data.drop(['Name', 'Title'], axis=1, inplace=True)\n",
    "    return data"
   ]
  },
  {
   "cell_type": "code",
   "execution_count": 49,
   "metadata": {},
   "outputs": [],
   "source": [
    "def process_sex(data):\n",
    "    return data.replace({'male': 0, 'female': 1})"
   ]
  },
  {
   "cell_type": "code",
   "execution_count": 50,
   "metadata": {},
   "outputs": [],
   "source": [
    "def hash_ticket(tickets):        \n",
    "    ticketstr = ''.join(tickets[:-1 if tickets[-1].isnumeric() else len(tickets)])\n",
    "    num = 0\n",
    "    for ch in ticketstr:\n",
    "        num += ord(ch)\n",
    "    \n",
    "    return str(num + int(tickets[-1]) if tickets[-1].isnumeric() else 0)\n",
    "\n",
    "def process_ticket(data):\n",
    "    data['Ticket'] = data['Ticket'].map(lambda ticket: ticket if ticket.isnumeric() else hash_ticket(ticket.split(' ')))\n",
    "    return data"
   ]
  },
  {
   "cell_type": "code",
   "execution_count": 51,
   "metadata": {},
   "outputs": [],
   "source": [
    "# Cabin has NaN for most of the rows, we will populate it with U and then do one-hot encoding\n",
    "def process_cabin(data):\n",
    "    data['Cabin'].fillna('U', inplace=True)\n",
    "    data['Cabin'] = data['Cabin'].map(lambda cabin: cabin[0])\n",
    "    cabin_dummies = pd.get_dummies(data['Cabin'], prefix='Cabin')\n",
    "    data = pd.concat([data, cabin_dummies], axis=1)\n",
    "    data.drop('Cabin', axis=1, inplace=True)\n",
    "    return data"
   ]
  },
  {
   "cell_type": "code",
   "execution_count": 52,
   "metadata": {},
   "outputs": [],
   "source": [
    "# For Embarked, we have 2 missing values, lets just replace them with most common embarking point which is S\n",
    "def process_embarked(data):\n",
    "    counts = data.Embarked.value_counts()\n",
    "    data['Embarked'].fillna(counts[counts == counts.max()].index.values[0], inplace=True)\n",
    "    embarked_dummies = pd.get_dummies(data['Embarked'], prefix='Embarked')\n",
    "    data = pd.concat([data, embarked_dummies], axis=1)\n",
    "    data.drop('Embarked', axis=1, inplace=True)\n",
    "    return data"
   ]
  },
  {
   "cell_type": "code",
   "execution_count": 64,
   "metadata": {},
   "outputs": [],
   "source": [
    "# Age is an important feature as we can tell from the graphs. So it would be better to keep it.\n",
    "# We can replace it with the mean/median of the age, but that would be problematic as ages might differ depending on people's classes\n",
    "# Therefore, best way would be to assign the age based on Pclass and Sex of the person\n",
    "\n",
    "def get_age(row, data):\n",
    "    condition = (data['Pclass'] == row['Pclass']) & (data['Sex'] == row['Sex'])\n",
    "\n",
    "    if np.isnan(row['Age']):\n",
    "        return data[condition]['Age'].values[0]\n",
    "    else:\n",
    "        return row['Age']\n",
    "\n",
    "def process_age(data):\n",
    "    grouped_data = data.groupby(['Sex', 'Pclass'])\n",
    "    grouped_data_median = grouped_data.median().reset_index()\n",
    "    \n",
    "    data['Age'] = data.apply(lambda row: get_age(row, grouped_data_median), axis=1)\n",
    "    \n",
    "    return data"
   ]
  },
  {
   "cell_type": "code",
   "execution_count": 79,
   "metadata": {},
   "outputs": [],
   "source": [
    "# Let's look at Fare distribution with respect to Survived\n",
    "# Since fare is a continuous variable, we can group it in ranges\n",
    "# First, we find its median and create ranges around that. (median is 14.)\n",
    "def get_range(fare):\n",
    "    if fare < 5: return '0-5'\n",
    "    if fare < 10: return '5-10'\n",
    "    if fare < 15: return '10-15'\n",
    "    if fare < 100: return '15-100'\n",
    "    if fare < 200: return '100-200'\n",
    "    if fare < 300: return '200-300'\n",
    "    if fare < 400: return '300-400'\n",
    "    return '400'\n",
    "\n",
    "def process_fare(data):\n",
    "    data['Fare'].fillna(data['Fare'].mean(), inplace=True)\n",
    "    return data\n",
    "#     train_data['FareRange'] = train_data['Fare'].map(get_range)\n",
    "#     We see people who paid had better chance of surviving\n",
    "#     sns.countplot(x='FareRange', hue='Survived', data=train_data)\n",
    "#     fare_dummies = pd.get_dummies(train_data['FareRange'], prefix='FareRange')\n",
    "#     train_data = pd.concat([train_data, fare_dummies], axis=1)\n",
    "#     train_data.drop('FareRange', axis=1, inplace=True)\n"
   ]
  },
  {
   "cell_type": "code",
   "execution_count": 55,
   "metadata": {},
   "outputs": [],
   "source": [
    "def process_family(data):\n",
    "    data['FamilySize'] = data['Parch'] + data['SibSp'] + 1\n",
    "    data['Single'] = data['FamilySize'].map(lambda s: 1 if s == 1 else 0)\n",
    "    data['SmallFamily'] = data['FamilySize'].map(lambda s: 1 if s < 3 else 0)\n",
    "    data['LargeFamily'] = data['FamilySize'].map(lambda s: 1 if s > 2 else 0)\n",
    "    return data"
   ]
  },
  {
   "cell_type": "code",
   "execution_count": 56,
   "metadata": {},
   "outputs": [],
   "source": [
    "# Let's build our first model based on features that we think are important to the model\n",
    "# we will use Gaussian Naive Bayes model for this\n",
    "from sklearn.model_selection import train_test_split\n",
    "from sklearn.metrics import accuracy_score, classification_report, confusion_matrix\n",
    "\n",
    "def process_data(data):\n",
    "    data = process_name(data)\n",
    "    data = process_sex(data)\n",
    "    data = process_age(data)\n",
    "    data = process_ticket(data)\n",
    "    data = process_cabin(data)\n",
    "    data = process_embarked(data)\n",
    "    data = process_fare(data)\n",
    "    data = process_family(data)\n",
    "    return data\n",
    "    \n",
    "def prepare_data(data):\n",
    "    data = process_data(data)\n",
    "    feature_data = data.drop('Survived', axis=1)\n",
    "    label_data = data.Survived\n",
    "    return train_test_split(feature_data, label_data, test_size=0.3, random_state=42)\n",
    "\n",
    "def run_model(model, features_train, features_test, labels_train, labels_test):    \n",
    "    model.fit(features_train, labels_train)\n",
    "    predictions = model.predict(features_test)\n",
    "    accuracy = accuracy_score(labels_test, predictions)\n",
    "    report = classification_report(labels_test, predictions)\n",
    "    confusion = confusion_matrix(labels_test, predictions)\n",
    "    return (accuracy, report, confusion)"
   ]
  },
  {
   "cell_type": "code",
   "execution_count": 65,
   "metadata": {},
   "outputs": [],
   "source": [
    "features_train, features_test, labels_train, labels_test = prepare_data(train_data)"
   ]
  },
  {
   "cell_type": "code",
   "execution_count": 35,
   "metadata": {},
   "outputs": [
    {
     "name": "stdout",
     "output_type": "stream",
     "text": [
      "0.6492537313432836\n",
      "              precision    recall  f1-score   support\n",
      "\n",
      "           0       0.63      0.97      0.76       157\n",
      "           1       0.81      0.20      0.32       111\n",
      "\n",
      "   micro avg       0.65      0.65      0.65       268\n",
      "   macro avg       0.72      0.58      0.54       268\n",
      "weighted avg       0.71      0.65      0.58       268\n",
      "\n",
      "[[152   5]\n",
      " [ 89  22]]\n"
     ]
    }
   ],
   "source": [
    "# We get 64% accuracy on this model\n",
    "from sklearn.naive_bayes import GaussianNB\n",
    "model = GaussianNB() \n",
    "results = run_model(model, features_train, features_test, labels_train, labels_test)\n",
    "for score in results: print(score)"
   ]
  },
  {
   "cell_type": "code",
   "execution_count": 66,
   "metadata": {},
   "outputs": [
    {
     "name": "stdout",
     "output_type": "stream",
     "text": [
      "0.8208955223880597\n",
      "              precision    recall  f1-score   support\n",
      "\n",
      "           0       0.82      0.89      0.85       157\n",
      "           1       0.82      0.72      0.77       111\n",
      "\n",
      "   micro avg       0.82      0.82      0.82       268\n",
      "   macro avg       0.82      0.81      0.81       268\n",
      "weighted avg       0.82      0.82      0.82       268\n",
      "\n",
      "[[140  17]\n",
      " [ 31  80]]\n"
     ]
    }
   ],
   "source": [
    "# Now let's use Random Forest Classifier and we get 83% accuracy\n",
    "from sklearn.ensemble import RandomForestClassifier\n",
    "model = RandomForestClassifier(n_estimators=180, min_samples_split=4)\n",
    "results = run_model(model, features_train, features_test, labels_train, labels_test)\n",
    "for score in results: print(score)"
   ]
  },
  {
   "cell_type": "code",
   "execution_count": 67,
   "metadata": {},
   "outputs": [
    {
     "name": "stdout",
     "output_type": "stream",
     "text": [
      "[9.60504190e-02 5.64199330e-02 1.04335644e-01 8.63572801e-02\n",
      " 2.30185789e-02 1.55467418e-02 1.31150620e-01 1.10328816e-01\n",
      " 1.23343215e-01 4.17460582e-02 3.71907283e-02 7.26931522e-03\n",
      " 8.29693002e-03 1.30258359e-03 5.47278718e-03 4.80618254e-03\n",
      " 6.07576488e-03 1.40157473e-02 1.46756078e-03 1.66535978e-03\n",
      " 7.69458275e-05 2.94945561e-02 1.38052357e-02 6.56780426e-03\n",
      " 1.32401306e-02 3.90084209e-02 9.60166806e-03 6.77036943e-03\n",
      " 5.57460308e-03]\n"
     ]
    }
   ],
   "source": [
    "print(model.feature_importances_)"
   ]
  },
  {
   "cell_type": "code",
   "execution_count": 68,
   "metadata": {},
   "outputs": [
    {
     "name": "stdout",
     "output_type": "stream",
     "text": [
      "Index(['PassengerId', 'Pclass', 'Sex', 'Age', 'SibSp', 'Parch', 'Ticket',\n",
      "       'Fare', 'Title_Mr', 'Title_Mrs', 'Title_Ms', 'Title_Officer',\n",
      "       'Title_Royalty', 'Cabin_A', 'Cabin_B', 'Cabin_C', 'Cabin_D', 'Cabin_E',\n",
      "       'Cabin_F', 'Cabin_G', 'Cabin_T', 'Cabin_U', 'Embarked_C', 'Embarked_Q',\n",
      "       'Embarked_S', 'FamilySize', 'Single', 'SmallFamily', 'LargeFamily'],\n",
      "      dtype='object')\n"
     ]
    }
   ],
   "source": [
    "print(features_train.columns)"
   ]
  },
  {
   "cell_type": "code",
   "execution_count": 69,
   "metadata": {},
   "outputs": [],
   "source": [
    "importance_map = list(zip(model.feature_importances_, features_train.columns))"
   ]
  },
  {
   "cell_type": "code",
   "execution_count": 70,
   "metadata": {},
   "outputs": [
    {
     "name": "stdout",
     "output_type": "stream",
     "text": [
      "[(7.694582750913495e-05, 'Cabin_T'), (0.0013025835897468921, 'Cabin_A'), (0.0014675607762554678, 'Cabin_F'), (0.0016653597827992136, 'Cabin_G'), (0.004806182537294245, 'Cabin_C'), (0.005472787176269425, 'Cabin_B'), (0.005574603082534503, 'LargeFamily'), (0.006075764884412898, 'Cabin_D'), (0.006567804260456047, 'Embarked_Q'), (0.006770369431242428, 'SmallFamily'), (0.007269315224842907, 'Title_Officer'), (0.00829693002348051, 'Title_Royalty'), (0.009601668061984994, 'Single'), (0.013240130617664247, 'Embarked_S'), (0.013805235667709298, 'Embarked_C'), (0.014015747285570453, 'Cabin_E'), (0.015546741837304687, 'Parch'), (0.023018578900469846, 'SibSp'), (0.02949455614649578, 'Cabin_U'), (0.037190728332336796, 'Title_Ms'), (0.03900842093672038, 'FamilySize'), (0.04174605818968958, 'Title_Mrs'), (0.05641993302826361, 'Pclass'), (0.08635728013028274, 'Age'), (0.09605041899118888, 'PassengerId'), (0.10433564367238074, 'Sex'), (0.11032881609096891, 'Fare'), (0.12334321528209607, 'Title_Mr'), (0.1311506202320294, 'Ticket')]\n"
     ]
    }
   ],
   "source": [
    "# This shows that most important features are Ticket, Sex, Title_Mr, Fare, Age, Pclass, FamilySize, Title_Mrs etc.\n",
    "importance_map.sort(key=lambda imp: imp[0])\n",
    "print(importance_map)"
   ]
  },
  {
   "cell_type": "code",
   "execution_count": 81,
   "metadata": {},
   "outputs": [],
   "source": [
    "# Prepare for final submission\n",
    "test_data = process_data(test_data)"
   ]
  },
  {
   "cell_type": "code",
   "execution_count": 91,
   "metadata": {},
   "outputs": [
    {
     "name": "stdout",
     "output_type": "stream",
     "text": [
      "set()\n"
     ]
    }
   ],
   "source": [
    "# print_nan(test_data)\n",
    "# fill in Cabin_T as it is missing from test_data\n",
    "test_data['Cabin_T'] = 0\n",
    "print(set(features_train.columns)-set(test_data.columns))"
   ]
  },
  {
   "cell_type": "code",
   "execution_count": 92,
   "metadata": {},
   "outputs": [],
   "source": [
    "predictions = model.predict(test_data)"
   ]
  },
  {
   "cell_type": "code",
   "execution_count": 93,
   "metadata": {},
   "outputs": [
    {
     "name": "stdout",
     "output_type": "stream",
     "text": [
      "418\n"
     ]
    }
   ],
   "source": [
    "print(len(predictions))"
   ]
  },
  {
   "cell_type": "code",
   "execution_count": 94,
   "metadata": {},
   "outputs": [],
   "source": [
    "test_data = pd.read_csv('./data/test.csv')\n",
    "submission = pd.DataFrame()\n",
    "submission['PassengerId'] = test_data['PassengerId']\n",
    "submission['Survived'] = predictions\n",
    "submission[['PassengerId','Survived']].to_csv('titanic_submission.csv', index=False)"
   ]
  }
 ],
 "metadata": {
  "kernelspec": {
   "display_name": "Python 3",
   "language": "python",
   "name": "python3"
  },
  "language_info": {
   "codemirror_mode": {
    "name": "ipython",
    "version": 3
   },
   "file_extension": ".py",
   "mimetype": "text/x-python",
   "name": "python",
   "nbconvert_exporter": "python",
   "pygments_lexer": "ipython3",
   "version": "3.7.1"
  }
 },
 "nbformat": 4,
 "nbformat_minor": 2
}
